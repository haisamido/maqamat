{
 "cells": [
  {
   "cell_type": "code",
   "execution_count": 6,
   "metadata": {},
   "outputs": [
    {
     "name": "stdout",
     "output_type": "stream",
     "text": [
      "hello\n"
     ]
    }
   ],
   "source": [
    "print(\"hello\")"
   ]
  },
  {
   "cell_type": "code",
   "execution_count": 7,
   "metadata": {},
   "outputs": [
    {
     "name": "stdout",
     "output_type": "stream",
     "text": [
      "Bayat\n",
      "Nahwand\n",
      "Spare\n",
      "[150 150 200 200 200 100 200 200]\n",
      "[   0  150  300  500  700  900 1000 1200 1400]\n",
      "[   0  150  300  500  700  900 1000 1200 1400]\n",
      " Cents Frequency\n",
      "   0.0 246.900000 1.000000 1\n",
      " 150.0 269.246359 1.090508 4911210218475899/4503599627370496\n",
      " 300.0 293.615237 1.189207 5355712719992597/4503599627370496\n",
      " 500.0 329.571960 1.334840 3005792134919727/2251799813685248\n",
      " 700.0 369.932017 1.498307 421735949569275/281474976710656\n",
      " 900.0 415.234650 1.681793 7574121564787629/4503599627370496\n",
      "1000.0 439.925787 1.781797 8024502270083369/4503599627370496\n",
      "1200.0 493.800000 2.000000 2\n",
      "1400.0 554.271759 2.244924 78986244726619/35184372088832\n"
     ]
    }
   ],
   "source": []
  }
 ],
 "metadata": {
  "kernelspec": {
   "display_name": "Python 3",
   "language": "python",
   "name": "python3"
  },
  "language_info": {
   "codemirror_mode": {
    "name": "ipython",
    "version": 3
   },
   "file_extension": ".py",
   "mimetype": "text/x-python",
   "name": "python",
   "nbconvert_exporter": "python",
   "pygments_lexer": "ipython3",
   "version": "3.10.8"
  },
  "orig_nbformat": 4,
  "vscode": {
   "interpreter": {
    "hash": "949777d72b0d2535278d3dc13498b2535136f6dfe0678499012e853ee9abcab1"
   }
  }
 },
 "nbformat": 4,
 "nbformat_minor": 2
}
